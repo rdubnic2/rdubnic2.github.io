{
 "cells": [
  {
   "cell_type": "markdown",
   "id": "eb99a047",
   "metadata": {},
   "source": [
    "### Homework 10\n",
    "#### Ryan Dubnicek"
   ]
  },
  {
   "cell_type": "markdown",
   "id": "bb25cd8f",
   "metadata": {},
   "source": [
    "The purpose of this assignment is to get some more practice developing on the web, specifically exporting plots made in Python+altair+vegalite to your github repository. (Additionally, this is good practice for your final project!)\n",
    "\n",
    "**This week you will be using Python, Altair and vega-lite to create two visualizations of the same dataset. These visualizations do NOT need to be linked but AT LEAST ONE needs to be interactive in some way beyond the \"built in\" pan/zoom capabilities.**\n",
    "\n",
    "Please note that these will be publicly posted submissions, and this is needed for grading, so plan accordingly.\n",
    "\n",
    "Group submissions are required for this assignment, however you can be in a \"group\" of 1 person on your own if you do not want to submit with others.  Please see notes about this process at the end of this post.  You must list all group member's names on your assignment -- we will not accept submissions without all group members listed.\n",
    "\n",
    "Include two paragraphs in your write up, one for each of your visualizations. This write up should include:\n",
    "* for EACH PLOT:\n",
    "    * a description of what you are visualizing\n",
    "    * what design choices you made: specifically what encoding types you are using, and if you are using a color scheme -- what variables you are coloring by and why you chose a specific color scheme\n",
    "    * discussion of any data transformations that you did on the analysis side of things in your Python notebook\n",
    "    * if you are using similar plots to your Homework #9 -- make sure you include quotations around any parts of your Homework #9 that you are using in your write up AND what you changed between Homework #9 to this Homework in order to get things to work with Altair\n",
    "    * for your interactivity: specify what interactivity you chose for one (or more) plots and how this helps your visualization be more clear or interesting\n",
    "\n",
    "Expect about a paragraph for each plot and another few sentences for discussion of interactivity.\n",
    "\n",
    "You must include both a link to your data AND a link to your Python notebook that you used to generate these plots. You can link them with \"The Data\" and \"The Analysis\" buttons like in the in-class examples. Make sure this link is to the GitHub page of the notebook! Otherwise, it will download by default and you won't get the nice rendering that GitHub will do for your projects.  \n",
    "\n",
    "Your submission will be:\n",
    "* a URL to your github repo -- your submission here will be a link to your page hosted on GitHub pages like: https://jnaiman.github.ioLinks to an external site.\n",
    "* your analysis .ipynb notebook\n",
    "\n",
    "Note that you will need to read in your data from a URL in your notebook.  This means if you are hosting the data yourself, you will need to be aware of GitHub's upload limits and plan accordingly.\n",
    "Some hints:\n",
    "* if you get a \"number of rows larger than maximum\" error, you might want to check out the documentation around \"alt.data_transformers.disable_max_rows()\" hereLinks to an external site..\n",
    "* if you are using temporal data it will likely be easier to transform Pandas columns into timestamps with .to_timestampLinks to an external site. instead of trying to do it in vega-lite/Altair\n"
   ]
  },
  {
   "cell_type": "code",
   "execution_count": 1,
   "id": "0184abee",
   "metadata": {},
   "outputs": [],
   "source": [
    "import altair as alt\n",
    "import pandas as pd\n"
   ]
  },
  {
   "cell_type": "markdown",
   "id": "6ed4a025",
   "metadata": {},
   "source": [
    "### Viz 1\n",
    "The idea for this visualization is to show UFO sighting duration by sighting, by state, allowing users to hover over one sighting (mark) and see which state it belonged to and how many seconds it lasted), which the larger visualization does the same, but lets you see if there are longer or shorter sightings for certain states."
   ]
  },
  {
   "cell_type": "code",
   "execution_count": 62,
   "id": "2cfc73da",
   "metadata": {},
   "outputs": [],
   "source": [
    "chart1 = alt.Chart.from_dict({\n",
    "  \"data\":{\"url\":\"https://raw.githubusercontent.com/rdubnic2/rdubnic2.github.io/main/ufo-scrubbed-geocoded-time-standardized-00-wheader-limitduration.csv\"},\n",
    "  \"mark\":{\"type\":\"point\", \"tooltip\":True},\n",
    "  \"encoding\":{\n",
    "    \"x\":{\"field\":\"state\", \"type\":\"ordinal\", \"title\":\"UFO Sightings by State\"},\n",
    "    \"y\":{\"field\":\"duration_seconds\", \"type\":\"quantitative\",\"axis\":{\"title\":\"Length of Sighting (Seconds)\"}}\n",
    "  }\n",
    "}\n",
    ")"
   ]
  },
  {
   "cell_type": "code",
   "execution_count": 63,
   "id": "80feaf36",
   "metadata": {},
   "outputs": [
    {
     "data": {
      "text/html": [
       "\n",
       "<div id=\"altair-viz-2de342155d1c4c7fb6e80de4ee04a49a\"></div>\n",
       "<script type=\"text/javascript\">\n",
       "  var VEGA_DEBUG = (typeof VEGA_DEBUG == \"undefined\") ? {} : VEGA_DEBUG;\n",
       "  (function(spec, embedOpt){\n",
       "    let outputDiv = document.currentScript.previousElementSibling;\n",
       "    if (outputDiv.id !== \"altair-viz-2de342155d1c4c7fb6e80de4ee04a49a\") {\n",
       "      outputDiv = document.getElementById(\"altair-viz-2de342155d1c4c7fb6e80de4ee04a49a\");\n",
       "    }\n",
       "    const paths = {\n",
       "      \"vega\": \"https://cdn.jsdelivr.net/npm//vega@5?noext\",\n",
       "      \"vega-lib\": \"https://cdn.jsdelivr.net/npm//vega-lib?noext\",\n",
       "      \"vega-lite\": \"https://cdn.jsdelivr.net/npm//vega-lite@4.17.0?noext\",\n",
       "      \"vega-embed\": \"https://cdn.jsdelivr.net/npm//vega-embed@6?noext\",\n",
       "    };\n",
       "\n",
       "    function maybeLoadScript(lib, version) {\n",
       "      var key = `${lib.replace(\"-\", \"\")}_version`;\n",
       "      return (VEGA_DEBUG[key] == version) ?\n",
       "        Promise.resolve(paths[lib]) :\n",
       "        new Promise(function(resolve, reject) {\n",
       "          var s = document.createElement('script');\n",
       "          document.getElementsByTagName(\"head\")[0].appendChild(s);\n",
       "          s.async = true;\n",
       "          s.onload = () => {\n",
       "            VEGA_DEBUG[key] = version;\n",
       "            return resolve(paths[lib]);\n",
       "          };\n",
       "          s.onerror = () => reject(`Error loading script: ${paths[lib]}`);\n",
       "          s.src = paths[lib];\n",
       "        });\n",
       "    }\n",
       "\n",
       "    function showError(err) {\n",
       "      outputDiv.innerHTML = `<div class=\"error\" style=\"color:red;\">${err}</div>`;\n",
       "      throw err;\n",
       "    }\n",
       "\n",
       "    function displayChart(vegaEmbed) {\n",
       "      vegaEmbed(outputDiv, spec, embedOpt)\n",
       "        .catch(err => showError(`Javascript Error: ${err.message}<br>This usually means there's a typo in your chart specification. See the javascript console for the full traceback.`));\n",
       "    }\n",
       "\n",
       "    if(typeof define === \"function\" && define.amd) {\n",
       "      requirejs.config({paths});\n",
       "      require([\"vega-embed\"], displayChart, err => showError(`Error loading script: ${err.message}`));\n",
       "    } else {\n",
       "      maybeLoadScript(\"vega\", \"5\")\n",
       "        .then(() => maybeLoadScript(\"vega-lite\", \"4.17.0\"))\n",
       "        .then(() => maybeLoadScript(\"vega-embed\", \"6\"))\n",
       "        .catch(showError)\n",
       "        .then(() => displayChart(vegaEmbed));\n",
       "    }\n",
       "  })({\"config\": {\"view\": {\"continuousWidth\": 400, \"continuousHeight\": 300}}, \"data\": {\"url\": \"https://raw.githubusercontent.com/rdubnic2/rdubnic2.github.io/main/ufo-scrubbed-geocoded-time-standardized-00-wheader-limitduration.csv\"}, \"mark\": {\"type\": \"point\", \"tooltip\": true}, \"encoding\": {\"x\": {\"field\": \"state\", \"title\": \"UFO Sightings by State\", \"type\": \"ordinal\"}, \"y\": {\"axis\": {\"title\": \"Length of Sighting (Seconds)\"}, \"field\": \"duration_seconds\", \"type\": \"quantitative\"}}, \"$schema\": \"https://vega.github.io/schema/vega-lite/v4.17.0.json\"}, {\"mode\": \"vega-lite\"});\n",
       "</script>"
      ],
      "text/plain": [
       "alt.Chart(...)"
      ]
     },
     "execution_count": 63,
     "metadata": {},
     "output_type": "execute_result"
    }
   ],
   "source": [
    "chart1"
   ]
  },
  {
   "cell_type": "markdown",
   "id": "422667ee",
   "metadata": {},
   "source": [
    "My design choices here, as usual, are pretty bare bones--I tend to not have a great eye for design! But I am using state abbreviations as the X axis and the number of seconds for each sighting as the Y. States are ordinal and seconds are quantitative. For this viz, I decided to remove sightings with over 5,000,000 seconds as duration, as there were just a few (~25 or so), that were skewing the axis very high, and I, quite frankly, couldn't spend more time trying to tweak the code to get the scae to change or the figure size to change. "
   ]
  },
  {
   "cell_type": "markdown",
   "id": "1a4b8ff8",
   "metadata": {},
   "source": [
    "### Viz 2"
   ]
  },
  {
   "cell_type": "markdown",
   "id": "ee2d40f1",
   "metadata": {},
   "source": [
    "The idea for this visualization, which is interactive, is to allow someone to view Bigfoot sightings, by state (in a bar chart), and to choose to see the mean humidity v. mean temperature for the sightings from a given state by clicking on the bar for that state."
   ]
  },
  {
   "cell_type": "code",
   "execution_count": 10,
   "id": "bed52cef",
   "metadata": {},
   "outputs": [],
   "source": [
    "brush = alt.selection_interval(encodings=['x','y'])\n",
    "\n",
    "chart22 = alt.Chart.from_dict({\n",
    "    # My code from Homework 9 for plotting mean humidity versus temperature for bigfoot sightings\n",
    "  \"data\":{\"url\":\"https://raw.githubusercontent.com/UIUC-iSchool-DataViz/is445_bcubcg_fall2022/main/data/bfro_reports_fall2022.csv\"},\n",
    "  \"mark\":{\"type\":\"bar\"},\n",
    "    #\"mark\":{\"type\":\"point\", \"tooltip\":True},\n",
    "  \"encoding\":{\n",
    "    \"x\":{\"field\":\"state\", \"type\": \"ordinal\",\"title\":\"Bigfoot Sightings by State\"},\n",
    "    \"y\":{\"aggregate\":\"count\",\"field\": \"state\", \"type\":\"ordinal\",\"axis\":{\"title\":\"Sighting Count\"}}\n",
    "  } #// end encoding\n",
    "}).add_selection(\n",
    "        brush\n",
    "    )"
   ]
  },
  {
   "cell_type": "code",
   "execution_count": 12,
   "id": "6ff6d07a",
   "metadata": {},
   "outputs": [],
   "source": [
    "# Chart1 is a replica of my viz from Homework 9! \n",
    "\n",
    "chart11 = alt.Chart.from_dict({\n",
    "    # My code from Homework 9 for plotting mean humidity versus temperature for bigfoot sightings\n",
    "  \"data\":{\"url\":\"https://raw.githubusercontent.com/UIUC-iSchool-DataViz/is445_bcubcg_fall2022/main/data/bfro_reports_fall2022.csv\"},\n",
    "  \"mark\":{\"type\":\"point\"},\n",
    "    #\"mark\":{\"type\":\"point\", \"tooltip\":True},\n",
    "  \"encoding\":{\n",
    "    \"x\":{\"field\":\"temperature_mid\", \"type\": \"quantitative\",\"title\":\"Average Mid Temperature\"},\n",
    "    \"y\":{\"aggregate\":\"mean\",\"field\": \"humidity\", \"type\":\"quantitative\",\"axis\":{\"title\":\"Mean Humidity\"}}\n",
    "  } #// end encoding\n",
    "}).transform_filter(\n",
    "    brush\n",
    ")"
   ]
  },
  {
   "cell_type": "code",
   "execution_count": 14,
   "id": "4bb03a52",
   "metadata": {},
   "outputs": [
    {
     "data": {
      "text/html": [
       "\n",
       "<div id=\"altair-viz-1f2990b67daa409a8533212f714990ee\"></div>\n",
       "<script type=\"text/javascript\">\n",
       "  var VEGA_DEBUG = (typeof VEGA_DEBUG == \"undefined\") ? {} : VEGA_DEBUG;\n",
       "  (function(spec, embedOpt){\n",
       "    let outputDiv = document.currentScript.previousElementSibling;\n",
       "    if (outputDiv.id !== \"altair-viz-1f2990b67daa409a8533212f714990ee\") {\n",
       "      outputDiv = document.getElementById(\"altair-viz-1f2990b67daa409a8533212f714990ee\");\n",
       "    }\n",
       "    const paths = {\n",
       "      \"vega\": \"https://cdn.jsdelivr.net/npm//vega@5?noext\",\n",
       "      \"vega-lib\": \"https://cdn.jsdelivr.net/npm//vega-lib?noext\",\n",
       "      \"vega-lite\": \"https://cdn.jsdelivr.net/npm//vega-lite@4.17.0?noext\",\n",
       "      \"vega-embed\": \"https://cdn.jsdelivr.net/npm//vega-embed@6?noext\",\n",
       "    };\n",
       "\n",
       "    function maybeLoadScript(lib, version) {\n",
       "      var key = `${lib.replace(\"-\", \"\")}_version`;\n",
       "      return (VEGA_DEBUG[key] == version) ?\n",
       "        Promise.resolve(paths[lib]) :\n",
       "        new Promise(function(resolve, reject) {\n",
       "          var s = document.createElement('script');\n",
       "          document.getElementsByTagName(\"head\")[0].appendChild(s);\n",
       "          s.async = true;\n",
       "          s.onload = () => {\n",
       "            VEGA_DEBUG[key] = version;\n",
       "            return resolve(paths[lib]);\n",
       "          };\n",
       "          s.onerror = () => reject(`Error loading script: ${paths[lib]}`);\n",
       "          s.src = paths[lib];\n",
       "        });\n",
       "    }\n",
       "\n",
       "    function showError(err) {\n",
       "      outputDiv.innerHTML = `<div class=\"error\" style=\"color:red;\">${err}</div>`;\n",
       "      throw err;\n",
       "    }\n",
       "\n",
       "    function displayChart(vegaEmbed) {\n",
       "      vegaEmbed(outputDiv, spec, embedOpt)\n",
       "        .catch(err => showError(`Javascript Error: ${err.message}<br>This usually means there's a typo in your chart specification. See the javascript console for the full traceback.`));\n",
       "    }\n",
       "\n",
       "    if(typeof define === \"function\" && define.amd) {\n",
       "      requirejs.config({paths});\n",
       "      require([\"vega-embed\"], displayChart, err => showError(`Error loading script: ${err.message}`));\n",
       "    } else {\n",
       "      maybeLoadScript(\"vega\", \"5\")\n",
       "        .then(() => maybeLoadScript(\"vega-lite\", \"4.17.0\"))\n",
       "        .then(() => maybeLoadScript(\"vega-embed\", \"6\"))\n",
       "        .catch(showError)\n",
       "        .then(() => displayChart(vegaEmbed));\n",
       "    }\n",
       "  })({\"config\": {\"view\": {\"continuousWidth\": 400, \"continuousHeight\": 300}}, \"hconcat\": [{\"data\": {\"url\": \"https://raw.githubusercontent.com/UIUC-iSchool-DataViz/is445_bcubcg_fall2022/main/data/bfro_reports_fall2022.csv\"}, \"mark\": {\"type\": \"bar\"}, \"encoding\": {\"x\": {\"field\": \"state\", \"title\": \"Bigfoot Sightings by State\", \"type\": \"ordinal\"}, \"y\": {\"aggregate\": \"count\", \"axis\": {\"title\": \"Sighting Count\"}, \"field\": \"state\", \"type\": \"ordinal\"}}, \"selection\": {\"selector002\": {\"type\": \"interval\", \"encodings\": [\"x\", \"y\"]}}}, {\"data\": {\"url\": \"https://raw.githubusercontent.com/UIUC-iSchool-DataViz/is445_bcubcg_fall2022/main/data/bfro_reports_fall2022.csv\"}, \"mark\": {\"type\": \"point\"}, \"encoding\": {\"x\": {\"field\": \"temperature_mid\", \"title\": \"Average Mid Temperature\", \"type\": \"quantitative\"}, \"y\": {\"aggregate\": \"mean\", \"axis\": {\"title\": \"Mean Humidity\"}, \"field\": \"humidity\", \"type\": \"quantitative\"}}, \"transform\": [{\"filter\": {\"selection\": \"selector002\"}}]}], \"$schema\": \"https://vega.github.io/schema/vega-lite/v4.17.0.json\"}, {\"mode\": \"vega-lite\"});\n",
       "</script>"
      ],
      "text/plain": [
       "alt.HConcatChart(...)"
      ]
     },
     "execution_count": 14,
     "metadata": {},
     "output_type": "execute_result"
    }
   ],
   "source": [
    "chart = chart22 | chart11\n",
    "chart"
   ]
  },
  {
   "cell_type": "markdown",
   "id": "aa9ca3fa",
   "metadata": {},
   "source": [
    "For the bar chart, I am simply visualizing a count of all sightings by state, using sum, and for the scatter plot, I am grabbing mean values for two columns of quantitative data: mean humidity and `temperature_mid` which is the recorded mid point of temperature for the day of a sighting. For both quantitative columns in `chart11` I am aggregating mean values. I didn't need to transform the data, as I felt this general approach would be more widely interesting. Since I used the base viz from Homework 9, I did have to tweak the things a bit for Altair--adding titles and starting first with the bar chart as the base viz and the scatter as the referenced chart. The interactivity here is hopefully clear, but I allow users to select a state's bar (representing Bigfoot sightings) and see each sighting in our data represented as a point plotted between mean humidity and mean temperature on an accompanying chart."
   ]
  },
  {
   "cell_type": "markdown",
   "id": "b6ef2a85",
   "metadata": {},
   "source": [
    "### Saving Viz 1 and Viz 2 as JSON objects for uploading to my Jekyll site:"
   ]
  },
  {
   "cell_type": "code",
   "execution_count": 65,
   "id": "a5d64870",
   "metadata": {},
   "outputs": [],
   "source": [
    "myJekyllDir = '/Users/rdubnic2/Desktop/is445-dataviz/rdubnic2.github.io/assets/json/'\n",
    "\n",
    "# Viz 1\n",
    "chart1.properties(width='container').save(myJekyllDir+'chart1.json')\n",
    "\n",
    "# Viz 2\n",
    "chart.properties().save(myJekyllDir+'dualChart.json')"
   ]
  },
  {
   "cell_type": "code",
   "execution_count": null,
   "id": "95682e8f",
   "metadata": {},
   "outputs": [],
   "source": []
  }
 ],
 "metadata": {
  "kernelspec": {
   "display_name": "Python 3 (ipykernel)",
   "language": "python",
   "name": "python3"
  },
  "language_info": {
   "codemirror_mode": {
    "name": "ipython",
    "version": 3
   },
   "file_extension": ".py",
   "mimetype": "text/x-python",
   "name": "python",
   "nbconvert_exporter": "python",
   "pygments_lexer": "ipython3",
   "version": "3.7.12"
  }
 },
 "nbformat": 4,
 "nbformat_minor": 5
}
